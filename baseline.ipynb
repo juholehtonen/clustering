{
 "cells": [
  {
   "cell_type": "markdown",
   "metadata": {},
   "source": [
    "# Test, baseline, a subset of data\n",
    "\n",
    "## Goals\n",
    " * Read data\n",
    " * Parse data\n",
    " * Preprocess\n",
    " * Vectorize\n",
    " * Cluster\n",
    " * Visualize\n",
    "\n",
    "### Resources:\n",
    "CSC Pebbles - Interactive research notebooks on demand from cloud:\n",
    "https://pb.csc.fi/#/dashboard\n",
    "\n",
    "Example notebook:\n",
    "  Intro to Python, 8 - Pandas\n",
    "  \n",
    "Interactive notebooks for data analysis:\n",
    "http://www.nature.com/news/interactive-notebooks-sharing-the-code-1.16261"
   ]
  },
  {
   "cell_type": "markdown",
   "metadata": {},
   "source": [
    "#### Read data and parse as simple dictionary"
   ]
  },
  {
   "cell_type": "code",
   "execution_count": 1,
   "metadata": {
    "collapsed": false
   },
   "outputs": [
    {
     "name": "stdout",
     "output_type": "stream",
     "text": [
      "Raw data:\n",
      "-------------------------------------------------------------------------------\n",
      "       10456\n",
      "\n",
      "           1 084275900007000          \n",
      "\n",
      "Lehti: ACTA OPHTHALMOLOGICA SCANDINAVICA\n",
      "\n",
      "ISSN: 1395-3907\n",
      "\n",
      "Ala: OPHTHALMOLOGY\n",
      "\n",
      "Ilmestymisvuosi:   1999\n",
      "\n",
      "Otsikko: Assessment of diabetic retinopathy using two-field 60 degrees fundus photography. A comparison between red-free, black-and-white prints and colour transparencies\n",
      "\n",
      "Abstrakti\n",
      "\n",
      "Purpose: To assess the severity of diabetic retinopathy and maculopathy bycomparing two different photographic methods; two-field 60 degrees photography using red-free, black-and-white prints and colour transparencies.Methods: Two ophthamologists independently graded the photographs of 74 patients using grading scales for retinopathy and maculopathy designed for 60degrees photography. A set of nine 60 degrees red-free, black-and-white standard photographs were chosen to represent the severity of principal diabetic retinopathy and maculopathy abnormalities.Results: The inter-observer agreement for five pooled retinopathy severitylevels was 88% (kappa 0.83, weighted kappa 0.96) and 81% (kappa 0.73, weighted kappa 0.89) using red-free, black-and-white prints and colour transparencies respectively The corresponding figures for six pooled maculopathy levels were 96% (kappa 0.84, weighted kappa 0.97) and 93% (kappa 0.67, weighted kappa 0.86), The analyses revealed that red-free, black-and-white printsdisclosed a higher severity level of retinopathy in. 83% (Grader 1) and 76% (Grader 2) in those eyes for which the grading was discordant.Conclusion: High-quality monochrome, red-free, wide-angle fundus photographs may be useful for the detection of early and advanced diabetic retinopathy.\n",
      "\n",
      "Avainsana (KeywordPlus):  OPHTHALMOSCOPY\n",
      "\n",
      "Avainsana (KeywordPlus):  KAPPA\n",
      "\n",
      "Avainsana (KeywordPlus):  COMPLICATIONS\n",
      "\n",
      "Avainsana (KeywordPlus):  COEFFICIENT\n",
      "\n",
      "Avainsana (KeywordPlus):  PROGRESSION\n",
      "\n",
      "Avainsana (KeywordPlus):  PREVALENCE\n",
      "\n",
      "Avainsana (KeywordPlus):  SIGHT\n",
      "\n",
      "Avainsana (tekijät):  diabetic retinopathy\n",
      "\n",
      "Avainsana (tekijät):  diabetic maculopathy\n",
      "\n",
      "Avainsana (tekijät):  retinal photography\n",
      "\n",
      "Avainsana (tekijät):  screening\n",
      "\n",
      "Avainsana (tekijät):  grading scale\n",
      "\n",
      "Lähde: 0010603696 /  *DIAB CONTR COMPL /  NEW ENGL J MED /  977 /  329 /  1993\n",
      "\n",
      "Lähde: 0034118371 /  *DIAB CONTR COMPL /  ARCH OPHTHALMOL-CHI /  1344 /  105 /  1987\n",
      "\n",
      "Lähde: 0075276068 /  *DRS RES GROUP /  OPHTHALMOLOGY /  82 /  85 /  1978\n",
      "\n",
      "\n",
      "\n",
      "Parsed data:\n",
      "-------------------------------------------------------------------------------\n",
      "[{'abstract': 'Purpose: To assess the severity of diabetic retinopathy and maculopathy bycomparing two different photographic methods; two-field 60 degrees photography using red-free, black-and-white prints and colour transparencies.Methods: Two ophthamologists independently graded the photographs of 74 patients using grading scales for retinopathy and maculopathy designed for 60degrees photography. A set of nine 60 degrees red-free, black-and-white standard photographs were chosen to represent the severity of principal diabetic retinopathy and maculopathy abnormalities.Results: The inter-observer agreement for five pooled retinopathy severitylevels was 88% (kappa 0.83, weighted kappa 0.96) and 81% (kappa 0.73, weighted kappa 0.89) using red-free, black-and-white prints and colour transparencies respectively The corresponding figures for six pooled maculopathy levels were 96% (kappa 0.84, weighted kappa 0.97) and 93% (kappa 0.67, weighted kappa 0.86), The analyses revealed that red-free, black-and-white printsdisclosed a higher severity level of retinopathy in. 83% (Grader 1) and 76% (Grader 2) in those eyes for which the grading was discordant.Conclusion: High-quality monochrome, red-free, wide-angle fundus photographs may be useful for the detection of early and advanced diabetic retinopathy.\\n',\n",
      "  'id': '084275900007000',\n",
      "  'issn': '1395-3907',\n",
      "  'keyword': ' diabetic_retinopathy diabetic_maculopathy retinal_photography screening grading_scale',\n",
      "  'keyword_publisher': ' OPHTHALMOSCOPY KAPPA COMPLICATIONS COEFFICIENT PROGRESSION PREVALENCE SIGHT',\n",
      "  'reference': ' 0010603696 0034118371 0075276068 0054165083 0023536084 0023536082 0023990506 0028913822 _/__*NAT_RES_DEV_CTR_W_/__ANN_STAT_/__/__/__1995 0023888866 0005285774 0002989424 0010448856 0000339658 0002011594 0001700609 0019829195 0000067954 0007313258 0042792585 0045436118 0002470611 0008449022 0007313262 0001143038 0075276069 0075276070 0000188654 0007509539 0000946210 0000153560 _/__LIEBETRAU,_AM_/__MEASURES_ASSOC_0703 0000104876 0075276071 0006249881 0002371440 0000104878 0045237511 0041012935 0002548809',\n",
      "  'title': 'Assessment of diabetic retinopathy using two-field 60 degrees fundus photography. A comparison between red-free, black-and-white prints and colour transparencies'}]\n"
     ]
    }
   ],
   "source": [
    "import pprint\n",
    "import re\n",
    "\n",
    "filename = '../data/SuomiRyväsData2000'\n",
    "\n",
    "opening_line = r'[ ]{,11}\\d{,12} (?P<identifier>\\d{15})'   # Note here is re.match(opening_line).group('identifier')\n",
    "journal_line = r'Lehti: (.*)'\n",
    "issn_line = r'ISSN: (.*)'\n",
    "discipline_line = r'Ala: (.*)'\n",
    "year_line = r'Ilmestymisvuosi:[ ]*(\\d{1,4})'\n",
    "title_line = r'Otsikko: (.*)'\n",
    "abstract_line = r'Abstrakti'\n",
    "keyword_publisher_line = r'Avainsana \\(KeywordPlus\\):  (.*)'\n",
    "keyword_line = r'Avainsana \\(tekijät\\):  (.*)'\n",
    "reference_line = r'Lähde: (.*)'\n",
    "closing_line = r' * '\n",
    "\n",
    "\n",
    "def dataset(batch_size=20):\n",
    "    datasets = []\n",
    "    data = {'keyword_publisher': '',\n",
    "            'keyword': '',\n",
    "            'reference': ''}\n",
    "            #'discipline': '',}\n",
    "    k = 0\n",
    "    with open(filename) as f:\n",
    "        for line in f:\n",
    "            m = re.match(opening_line, line)\n",
    "            if m:\n",
    "                data['id'] = m.group('identifier')\n",
    "                continue\n",
    "\n",
    "            m = re.match(issn_line, line)\n",
    "            if m:\n",
    "                data['issn'] = m.group(1)\n",
    "                continue\n",
    "\n",
    "            # m = re.match(discipline_line, line)\n",
    "            # if m:\n",
    "            #     data['discipline'] = ' '.join([data['discipline'], m.group(1).replace(' & ', '_&_')])\n",
    "            #     continue\n",
    "\n",
    "            # Note: remeber to parse two character words too 'chromosome arm 3p'\n",
    "            m = re.match(title_line, line)\n",
    "            if m:\n",
    "                data['title'] = m.group(1)\n",
    "                continue\n",
    "\n",
    "            # Note: remeber to parse two character words too 'chromosome arm 3p'\n",
    "            m = re.match(abstract_line, line)\n",
    "            if m:\n",
    "                data['abstract'] = f.next()\n",
    "                continue\n",
    "\n",
    "            m = re.match(keyword_publisher_line, line)\n",
    "            if m:\n",
    "                data['keyword_publisher'] = ' '.join([data['keyword_publisher'], m.group(1).replace(' ', '_')])\n",
    "                continue\n",
    "\n",
    "            m = re.match(keyword_line, line)\n",
    "            if m:\n",
    "                data['keyword'] = ' '.join([data['keyword'], m.group(1).replace(' ', '_')])\n",
    "                continue\n",
    "\n",
    "            m = re.match(reference_line, line)\n",
    "            if m:\n",
    "                ref = re.sub('(\\d+) /.*', '\\\\1', m.group(1))\n",
    "                data['reference'] = ' '.join([data['reference'], ref.replace(' ', '_')])\n",
    "                continue\n",
    "\n",
    "            m = re.match(closing_line, line)\n",
    "            if m:\n",
    "                datasets.append(data.copy())\n",
    "                k += 1\n",
    "            if k >= batch_size:\n",
    "                break\n",
    "    return datasets\n",
    "\n",
    "n_samples = 70\n",
    "data = dataset(batch_size=n_samples)\n",
    "print 'Raw data:'\n",
    "print(79 * '-')\n",
    "with open(filename) as f:\n",
    "    for i2, line2 in enumerate(f):\n",
    "        print line2\n",
    "        if i2 > 22: break\n",
    "print '\\n\\nParsed data:'\n",
    "print(79 * '-')        \n",
    "pprint.pprint(data[1:2])"
   ]
  },
  {
   "cell_type": "markdown",
   "metadata": {},
   "source": [
    "\n",
    "#### Preprocess\n",
    "Implement a scikit-learn Transformer and FeatureUnion to more sophisticately vectorize and wheigh features."
   ]
  },
  {
   "cell_type": "markdown",
   "metadata": {},
   "source": [
    "#### Vectorize and cluster in a pipeline"
   ]
  },
  {
   "cell_type": "code",
   "execution_count": 2,
   "metadata": {
    "collapsed": false
   },
   "outputs": [
    {
     "name": "stdout",
     "output_type": "stream",
     "text": [
      "training time:  0.29s,    n_samples: 70\n",
      "predict time: 9.96s\n"
     ]
    },
    {
     "data": {
      "image/png": "[encoded data removed]",
      "text/plain": [
       "<matplotlib.figure.Figure at 0x7f90bbc57350>"
      ]
     },
     "metadata": {},
     "output_type": "display_data"
    },
    {
     "name": "stdout",
     "output_type": "stream",
     "text": [
      "plot time: 12.98s\n"
     ]
    }
   ],
   "source": [
    "from time import time\n",
    "import numpy as np\n",
    "import matplotlib.pyplot as plt\n",
    "\n",
    "from sklearn.base import BaseEstimator, TransformerMixin\n",
    "from sklearn.cluster import KMeans\n",
    "from sklearn.decomposition import TruncatedSVD\n",
    "from sklearn.feature_extraction import (DictVectorizer,\n",
    "                                        FeatureHasher)\n",
    "from sklearn.feature_extraction.text import CountVectorizer\n",
    "from sklearn.pipeline import FeatureUnion\n",
    "from sklearn.pipeline import Pipeline\n",
    "\n",
    "\n",
    "class DisciplineExtractor(BaseEstimator, TransformerMixin):\n",
    "    \"\"\"Extract the discipline from data\"\"\"\n",
    "\n",
    "    def fit(self, x, y=None):\n",
    "        return self\n",
    "\n",
    "    def transform(self, data):\n",
    "        transformed = []\n",
    "        for d in data:\n",
    "            transformed.append(d['discipline'])\n",
    "        return transformed\n",
    "    \n",
    "class GeneralExtractor(BaseEstimator, TransformerMixin):\n",
    "    \"\"\"Extract and merge all fields from a sample to a string\"\"\"\n",
    "\n",
    "    def fit(self, x, y=None):\n",
    "        return self\n",
    "\n",
    "    def transform(self, data):\n",
    "        transformed = []\n",
    "        for d in data:\n",
    "            transformed.append(' '.join(d.values()))\n",
    "        return transformed    \n",
    "\n",
    "n_cl = 6\n",
    "pl = Pipeline([\n",
    "    # ('discipline', DisciplineExtractor()),\n",
    "    ('takeall', GeneralExtractor()),\n",
    "    ('vectorizer', CountVectorizer()),\n",
    "    ('svd', TruncatedSVD(n_components=2))\n",
    "    # ('kmeans', KMeans(init='k-means++', n_clusters=n_cl, n_init=10))\n",
    "    ])\n",
    "\n",
    "t0 = time()\n",
    "reduced_data = pl.fit_transform(data)\n",
    "# Get timings for different clusterings: full dimensions, dimension reduced\n",
    "t_preprocessing = time() - t0\n",
    "\n",
    "# Visualize the results\n",
    "#kmeans = KMeans(init='k-means++', n_clusters=n_cl, n_init=10)\n",
    "kmeans = KMeans(init='random', n_clusters=n_cl, n_init=10)\n",
    "kmeans.fit(reduced_data)\n",
    "t_end = time() - t0; t1 = time()\n",
    "print('training time:  %.2fs,    n_samples: %i' % (t_end, len(reduced_data)))\n",
    "\n",
    "h = .02\n",
    "# Plot the decision boundary. For that, we will assign a color to each\n",
    "x_min, x_max = reduced_data[:, 0].min() - 1, reduced_data[:, 0].max() + 1\n",
    "y_min, y_max = reduced_data[:, 1].min() - 1, reduced_data[:, 1].max() + 1\n",
    "xx, yy = np.meshgrid(np.arange(x_min, x_max, h), np.arange(y_min, y_max, h))\n",
    "\n",
    "# Obtain labels for each point in mesh. Use last trained model.\n",
    "t2 = time()\n",
    "Z = kmeans.predict(np.c_[xx.ravel(), yy.ravel()])\n",
    "print('predict time: %.2fs' % (time() - t2))\n",
    "\n",
    "# Put the result into a color plot\n",
    "Z = Z.reshape(xx.shape)\n",
    "plt.figure(1)\n",
    "plt.clf()\n",
    "plt.imshow(Z, interpolation='nearest',\n",
    "           extent=(xx.min(), xx.max(), yy.min(), yy.max()),\n",
    "           cmap=plt.cm.Paired,\n",
    "           aspect='auto', origin='lower')\n",
    "\n",
    "plt.plot(reduced_data[:, 0], reduced_data[:, 1], 'k.', markersize=2)\n",
    "plt.title(u'Suomalaisten tieteellisten julkaisujen ryhmittelyanalyysi K-means-\\n'\n",
    "          u'menetelmällä (baseline)')\n",
    "plt.xlim(x_min, x_max)\n",
    "plt.ylim(y_min, y_max)\n",
    "plt.xticks(())\n",
    "plt.yticks(())\n",
    "plt.show()\n",
    "print('plot time: %.2fs' % (time() - t1))"
   ]
  },
  {
   "cell_type": "code",
   "execution_count": 3,
   "metadata": {
    "collapsed": false
   },
   "outputs": [
    {
     "name": "stdout",
     "output_type": "stream",
     "text": [
      "[1 1 1 1 4 4 4 4 4 4 4 4 4 4 4 0 0 0 0 0 0 0 0 0 0 0 0 0 0 0 0 0 0 0 0 5 5\n",
      " 5 5 5 5 5 5 5 5 5 2 2 2 2 2 2 2 2 2 2 2 2 2 2 2 3 3 3 3 3 3 3 3 3]\n"
     ]
    }
   ],
   "source": [
    "print kmeans.labels_"
   ]
  },
  {
   "cell_type": "code",
   "execution_count": null,
   "metadata": {
    "collapsed": true
   },
   "outputs": [],
   "source": []
  }
 ],
 "metadata": {
  "kernelspec": {
   "display_name": "Python 2",
   "language": "python",
   "name": "python2"
  },
  "language_info": {
   "codemirror_mode": {
    "name": "ipython",
    "version": 2
   },
   "file_extension": ".py",
   "mimetype": "text/x-python",
   "name": "python",
   "nbconvert_exporter": "python",
   "pygments_lexer": "ipython2",
   "version": "2.7.13"
  }
 },
 "nbformat": 4,
 "nbformat_minor": 0
}
